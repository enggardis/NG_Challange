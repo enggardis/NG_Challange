{
  "nbformat": 4,
  "nbformat_minor": 0,
  "metadata": {
    "colab": {
      "name": "h8dsft_converter.ipynb",
      "provenance": [],
      "collapsed_sections": []
    },
    "kernelspec": {
      "name": "python3",
      "display_name": "Python 3"
    },
    "language_info": {
      "name": "python"
    }
  },
  "cells": [
    {
      "cell_type": "code",
      "metadata": {
        "id": "mgE8YHmKO1gU",
        "colab": {
          "base_uri": "https://localhost:8080/"
        },
        "outputId": "e67d3843-b432-4101-c567-99bcc637545c"
      },
      "source": [
        "''' \n",
        "   Assignment Instructions\n",
        "#Buatlah sebuah function yang dapat mengkonversi suhu dari kelvin ke celcius, dan celcius ke kelvin.\n",
        "#Buatlah sebuah function yang dapat mengkonversi suhu ke fahrenheit. Tambahkan parameter untuk memastikan bahwa argumen yang dimasukan adalah celcius atau kelvin. \n",
        "Panggil function yang pertama jika diperlukan.\n",
        "#Buatlah sebuah function yang dapat mengkonversi suhu dari fahrenheit. Berikan argumen untuk memastikan bahwa outputnya dalah celcius atau kelvin.\n",
        "#Berikan dokumentasi pada setiap baris kode yang kalian tulis.\n",
        "\n",
        "  Assignment Submission\n",
        "Simpan assignment pada sesi ini dengan nama h8dsft_converter.\n",
        "Push Assigment yang telah kalian buat ke akun Github kalian masing-masing.\n",
        "Assignment Objectives\n",
        "Non-Graded Assignment ini dibuat guna mengevaluasi konsep function sebagai berikut:\n",
        "\n",
        "Memahami konsep dan kerangka dari function\n",
        "Mampu mendefinisikan sebuah function\n",
        "Mampu mengimplementasikan sebuah function dengan parameter yang diberikan\n",
        "'''\n",
        "\n",
        "\n",
        "#Konversi suhu dari kelvin ke celcius, dan celcius ke kelvin\n",
        "\n",
        "def kelvin_celcius (x, temp):    # 'x' merupakan nilai temperatur yang akan dikonversikan\n",
        "                                 # 'temp' merupakan satuan yang akan dikonversikan menjadi\n",
        "  if temp=='cel':                                    # jika temp merupakan 'cel' artinya satuan akan dikonversikan menjadi celcius\n",
        "      print ( x , 'Kelvin: ' , x-273, 'Celcius')    # berisi rumus konversi dari kelvin menuju celcius\n",
        "  elif temp=='kel':                                 # jika temp merupakan 'kel' artinya satuan akan dikonversikan menjadi kelvin            \n",
        "      print(x , 'Celcius: ' , x+273, 'Kelvin')      #berisi rumus koversi dari celcius menuju kelvin\n",
        "\n",
        "\n",
        "kelvin_celcius(10, 'kel')\n",
        "  \n"
      ],
      "execution_count": 98,
      "outputs": [
        {
          "output_type": "stream",
          "name": "stdout",
          "text": [
            "10 Celcius:  283 Kelvin\n"
          ]
        }
      ]
    },
    {
      "cell_type": "code",
      "metadata": {
        "colab": {
          "base_uri": "https://localhost:8080/"
        },
        "id": "R07vjGwp_Z7a",
        "outputId": "12d4b54d-5cc9-4be0-9d1e-1cf81eb98eca"
      },
      "source": [
        "#Koversi suhu dari Celcius dan Kelvin ke Fahrenheit\n",
        "\n",
        "def to_fahrenheit (y, temp1): # 'x' merupakan nilai temperature yang akan dikonversikan\n",
        "                          # 'temp1' merupakan dari mana satuan berasal, apakah celcius atau kelvin\n",
        "  if temp1=='cel':\n",
        "    print( y ,'Celcius: ', y*9/5+32 , 'Fahrenheit') # merupakan rumus konversi dari celcius ke fahrenheit\n",
        "  elif temp1=='kel':\n",
        "    print( y, 'Kelvin: ', (y-273.15)*9/5+32 , 'Fahrenheit') #merupakan rumus konversi dari kelvin ke fahrenheit\n",
        "\n",
        "to_fahrenheit(10, 'kel')"
      ],
      "execution_count": 97,
      "outputs": [
        {
          "output_type": "stream",
          "name": "stdout",
          "text": [
            "10 Kelvin:  -441.66999999999996 Fahrenheit\n"
          ]
        }
      ]
    },
    {
      "cell_type": "code",
      "metadata": {
        "colab": {
          "base_uri": "https://localhost:8080/"
        },
        "id": "aZ-bmflXDUtm",
        "outputId": "6deab7df-b198-4ea0-cc8f-376d853ff45f"
      },
      "source": [
        "# Konversi Suhu dari Fahrenheit ke Celcius atau Kelvin\n",
        "\n",
        "def from_fahrenheit (z, temp2): # z merupakan nilai temperature yang akan dikonversikan\n",
        "                              # temp2 merupakan menuju satuan mana nilai akan dikonversikan, apakah celcius atau kelvin\n",
        "  if temp2=='cel':\n",
        "    print( z , 'Fahrenheit: ' , (z-32)*5/9 , 'Celcius') #rumus konversi fahrenheit ke celcius\n",
        "  elif temp2=='kel':\n",
        "    print(z, 'Fahrenheit: ', (z-32)*5/9+273.15, 'Kelvin')  #rumus konversi fahrenheit ke kelvin\n",
        "\n",
        "from_fahrenheit(10, 'cel')"
      ],
      "execution_count": 101,
      "outputs": [
        {
          "output_type": "stream",
          "name": "stdout",
          "text": [
            "10 Fahrenheit:  -12.222222222222221 Celcius\n"
          ]
        }
      ]
    }
  ]
}
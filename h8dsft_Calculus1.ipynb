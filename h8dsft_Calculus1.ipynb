{
  "nbformat": 4,
  "nbformat_minor": 0,
  "metadata": {
    "colab": {
      "name": "h8dsft_Calculus1.ipynb",
      "provenance": [],
      "collapsed_sections": []
    },
    "kernelspec": {
      "name": "python3",
      "display_name": "Python 3"
    },
    "language_info": {
      "name": "python"
    }
  },
  "cells": [
    {
      "cell_type": "markdown",
      "metadata": {
        "id": "FYq_zvmy-ChS"
      },
      "source": [
        "Non Graded Challenge 7\n",
        "\n",
        "Name : Enggar Diswandoro\n",
        "\n",
        "Carilah derivative dari sebuah fungsi:\n",
        "\n",
        "$y = x^{2} + 2x + 1$\n",
        "\n",
        "$y = 4x^{3} - 3x^{2} + 2x -1$"
      ]
    },
    {
      "cell_type": "code",
      "metadata": {
        "id": "ozLWtNfr6lUW"
      },
      "source": [
        "import sympy as sy\n",
        "import numpy as np"
      ],
      "execution_count": 2,
      "outputs": []
    },
    {
      "cell_type": "code",
      "metadata": {
        "colab": {
          "base_uri": "https://localhost:8080/",
          "height": 37
        },
        "id": "P0aeSFzR-wyr",
        "outputId": "1eb543a0-3364-4bd9-9a2d-3364b5bf978b"
      },
      "source": [
        "# Soal 1, Derivative dari fungsi y = x^{2} + 2x + 1\n",
        "\n",
        "x = sy.Symbol(\"x\", real=True)\n",
        "f = x**2+2*x+1\n",
        "f.diff(x)"
      ],
      "execution_count": 3,
      "outputs": [
        {
          "output_type": "execute_result",
          "data": {
            "text/latex": "$\\displaystyle 2 x + 2$",
            "text/plain": [
              "2*x + 2"
            ]
          },
          "metadata": {},
          "execution_count": 3
        }
      ]
    },
    {
      "cell_type": "code",
      "metadata": {
        "colab": {
          "base_uri": "https://localhost:8080/",
          "height": 37
        },
        "id": "2hv9Jt2A-1sP",
        "outputId": "f4e66c03-d4a7-44de-b2fb-1c2b2f8de4df"
      },
      "source": [
        "# Soal 2, Derivative dari fungsi $y = 4x^{3} - 3x^{2} + 2x -1$\n",
        "\n",
        "f= 4*x**3 - 3*x**2 + 2*x -1\n",
        "f.diff(x)"
      ],
      "execution_count": 5,
      "outputs": [
        {
          "output_type": "execute_result",
          "data": {
            "text/latex": "$\\displaystyle 12 x^{2} - 6 x + 2$",
            "text/plain": [
              "12*x**2 - 6*x + 2"
            ]
          },
          "metadata": {},
          "execution_count": 5
        }
      ]
    }
  ]
}
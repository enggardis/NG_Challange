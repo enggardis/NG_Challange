{
  "nbformat": 4,
  "nbformat_minor": 0,
  "metadata": {
    "colab": {
      "name": "Lives Code.ipynb",
      "provenance": []
    },
    "kernelspec": {
      "name": "python3",
      "display_name": "Python 3"
    },
    "language_info": {
      "name": "python"
    }
  },
  "cells": [
    {
      "cell_type": "markdown",
      "metadata": {
        "id": "aYmOCpwCHnCc"
      },
      "source": [
        "# 1. PERKENALAN\n",
        "\n",
        "Nama : Enggar Diswandoro\n",
        "Batch : 004"
      ]
    },
    {
      "cell_type": "markdown",
      "metadata": {
        "id": "l4V5UempH9AU"
      },
      "source": [
        "# 2. Judul/Penanda Soal\n",
        "\n"
      ]
    },
    {
      "cell_type": "markdown",
      "metadata": {
        "id": "z-TkkEdhIk8B"
      },
      "source": [
        "# 3. Import Pustaka\n"
      ]
    },
    {
      "cell_type": "code",
      "metadata": {
        "id": "XZcUJ_7YHkjq"
      },
      "source": [
        "import numpy as np\n",
        "import pandas as pd"
      ],
      "execution_count": 1,
      "outputs": []
    },
    {
      "cell_type": "code",
      "metadata": {
        "colab": {
          "base_uri": "https://localhost:8080/"
        },
        "id": "65f55pyrJB7G",
        "outputId": "8899eae4-a3fd-4811-a096-88a8014fd557"
      },
      "source": [
        "from google.colab import drive\n",
        "drive.mount('/content/drive')"
      ],
      "execution_count": 3,
      "outputs": [
        {
          "output_type": "stream",
          "name": "stdout",
          "text": [
            "Mounted at /content/drive\n"
          ]
        }
      ]
    },
    {
      "cell_type": "code",
      "metadata": {
        "id": "WDDx97UlIwv1"
      },
      "source": [
        "import xlrd\n"
      ],
      "execution_count": 33,
      "outputs": []
    },
    {
      "cell_type": "code",
      "metadata": {
        "id": "TFfFyIDzQESE"
      },
      "source": [
        "df = pd.read_excel('/content/drive/MyDrive/Live Code/NMC1-9.xlsx')\n"
      ],
      "execution_count": 40,
      "outputs": []
    },
    {
      "cell_type": "code",
      "metadata": {
        "colab": {
          "base_uri": "https://localhost:8080/",
          "height": 418
        },
        "id": "Hdr-DIxrO7uj",
        "outputId": "cab2f4f1-9360-438e-d5fa-1ee7b385e4ad"
      },
      "source": [
        "df"
      ],
      "execution_count": 41,
      "outputs": [
        {
          "output_type": "execute_result",
          "data": {
            "text/html": [
              "<div>\n",
              "<style scoped>\n",
              "    .dataframe tbody tr th:only-of-type {\n",
              "        vertical-align: middle;\n",
              "    }\n",
              "\n",
              "    .dataframe tbody tr th {\n",
              "        vertical-align: top;\n",
              "    }\n",
              "\n",
              "    .dataframe thead th {\n",
              "        text-align: right;\n",
              "    }\n",
              "</style>\n",
              "<table border=\"1\" class=\"dataframe\">\n",
              "  <thead>\n",
              "    <tr style=\"text-align: right;\">\n",
              "      <th></th>\n",
              "      <th>time(s)</th>\n",
              "      <th>V_m</th>\n",
              "      <th>Current (A)</th>\n",
              "      <th>Cycle</th>\n",
              "      <th>Cap</th>\n",
              "    </tr>\n",
              "  </thead>\n",
              "  <tbody>\n",
              "    <tr>\n",
              "      <th>0</th>\n",
              "      <td>0</td>\n",
              "      <td>4.098</td>\n",
              "      <td>0.997</td>\n",
              "      <td>1</td>\n",
              "      <td>2.840817</td>\n",
              "    </tr>\n",
              "    <tr>\n",
              "      <th>1</th>\n",
              "      <td>1</td>\n",
              "      <td>4.096</td>\n",
              "      <td>0.998</td>\n",
              "      <td>1</td>\n",
              "      <td>2.840817</td>\n",
              "    </tr>\n",
              "    <tr>\n",
              "      <th>2</th>\n",
              "      <td>2</td>\n",
              "      <td>4.094</td>\n",
              "      <td>0.999</td>\n",
              "      <td>1</td>\n",
              "      <td>2.840817</td>\n",
              "    </tr>\n",
              "    <tr>\n",
              "      <th>3</th>\n",
              "      <td>3</td>\n",
              "      <td>4.093</td>\n",
              "      <td>0.998</td>\n",
              "      <td>1</td>\n",
              "      <td>2.840817</td>\n",
              "    </tr>\n",
              "    <tr>\n",
              "      <th>4</th>\n",
              "      <td>4</td>\n",
              "      <td>4.092</td>\n",
              "      <td>0.999</td>\n",
              "      <td>1</td>\n",
              "      <td>2.840817</td>\n",
              "    </tr>\n",
              "    <tr>\n",
              "      <th>...</th>\n",
              "      <td>...</td>\n",
              "      <td>...</td>\n",
              "      <td>...</td>\n",
              "      <td>...</td>\n",
              "      <td>...</td>\n",
              "    </tr>\n",
              "    <tr>\n",
              "      <th>90977</th>\n",
              "      <td>90977</td>\n",
              "      <td>2.506</td>\n",
              "      <td>1.002</td>\n",
              "      <td>9</td>\n",
              "      <td>2.770180</td>\n",
              "    </tr>\n",
              "    <tr>\n",
              "      <th>90978</th>\n",
              "      <td>90978</td>\n",
              "      <td>2.504</td>\n",
              "      <td>1.002</td>\n",
              "      <td>9</td>\n",
              "      <td>2.770180</td>\n",
              "    </tr>\n",
              "    <tr>\n",
              "      <th>90979</th>\n",
              "      <td>90979</td>\n",
              "      <td>2.502</td>\n",
              "      <td>1.002</td>\n",
              "      <td>9</td>\n",
              "      <td>2.770180</td>\n",
              "    </tr>\n",
              "    <tr>\n",
              "      <th>90980</th>\n",
              "      <td>90980</td>\n",
              "      <td>2.500</td>\n",
              "      <td>1.002</td>\n",
              "      <td>9</td>\n",
              "      <td>2.770180</td>\n",
              "    </tr>\n",
              "    <tr>\n",
              "      <th>90981</th>\n",
              "      <td>90981</td>\n",
              "      <td>2.497</td>\n",
              "      <td>1.002</td>\n",
              "      <td>9</td>\n",
              "      <td>2.770180</td>\n",
              "    </tr>\n",
              "  </tbody>\n",
              "</table>\n",
              "<p>90982 rows × 5 columns</p>\n",
              "</div>"
            ],
            "text/plain": [
              "       time(s)    V_m  Current (A)  Cycle       Cap\n",
              "0            0  4.098        0.997      1  2.840817\n",
              "1            1  4.096        0.998      1  2.840817\n",
              "2            2  4.094        0.999      1  2.840817\n",
              "3            3  4.093        0.998      1  2.840817\n",
              "4            4  4.092        0.999      1  2.840817\n",
              "...        ...    ...          ...    ...       ...\n",
              "90977    90977  2.506        1.002      9  2.770180\n",
              "90978    90978  2.504        1.002      9  2.770180\n",
              "90979    90979  2.502        1.002      9  2.770180\n",
              "90980    90980  2.500        1.002      9  2.770180\n",
              "90981    90981  2.497        1.002      9  2.770180\n",
              "\n",
              "[90982 rows x 5 columns]"
            ]
          },
          "metadata": {},
          "execution_count": 41
        }
      ]
    },
    {
      "cell_type": "markdown",
      "metadata": {
        "id": "Uk88GN9_fzaI"
      },
      "source": [
        "# 4. Data Loading"
      ]
    },
    {
      "cell_type": "code",
      "metadata": {
        "colab": {
          "base_uri": "https://localhost:8080/"
        },
        "id": "L10JQD_MTRIZ",
        "outputId": "b73886c3-3914-4c2f-c9dd-0cd200fd01c7"
      },
      "source": [
        "df.info()"
      ],
      "execution_count": 42,
      "outputs": [
        {
          "output_type": "stream",
          "name": "stdout",
          "text": [
            "<class 'pandas.core.frame.DataFrame'>\n",
            "RangeIndex: 90982 entries, 0 to 90981\n",
            "Data columns (total 5 columns):\n",
            " #   Column       Non-Null Count  Dtype  \n",
            "---  ------       --------------  -----  \n",
            " 0   time(s)      90982 non-null  int64  \n",
            " 1   V_m          90982 non-null  float64\n",
            " 2   Current (A)  90982 non-null  float64\n",
            " 3   Cycle        90982 non-null  int64  \n",
            " 4   Cap          90982 non-null  float64\n",
            "dtypes: float64(3), int64(2)\n",
            "memory usage: 3.5 MB\n"
          ]
        }
      ]
    },
    {
      "cell_type": "code",
      "metadata": {
        "colab": {
          "base_uri": "https://localhost:8080/"
        },
        "id": "twrZThagf4YX",
        "outputId": "72f4c4be-e728-4760-eadb-9aee21674d1c"
      },
      "source": [
        "len(df)"
      ],
      "execution_count": 43,
      "outputs": [
        {
          "output_type": "execute_result",
          "data": {
            "text/plain": [
              "90982"
            ]
          },
          "metadata": {},
          "execution_count": 43
        }
      ]
    },
    {
      "cell_type": "code",
      "metadata": {
        "colab": {
          "base_uri": "https://localhost:8080/"
        },
        "id": "ch2wzvXogSeG",
        "outputId": "37916658-24f9-43d1-bbee-a3f7c080df42"
      },
      "source": [
        "df.shape"
      ],
      "execution_count": 44,
      "outputs": [
        {
          "output_type": "execute_result",
          "data": {
            "text/plain": [
              "(90982, 5)"
            ]
          },
          "metadata": {},
          "execution_count": 44
        }
      ]
    },
    {
      "cell_type": "code",
      "metadata": {
        "colab": {
          "base_uri": "https://localhost:8080/",
          "height": 296
        },
        "id": "bg5P95v8gUiT",
        "outputId": "995cd0af-4e87-4184-ce82-1bffb8f9fe63"
      },
      "source": [
        "df.describe()"
      ],
      "execution_count": 46,
      "outputs": [
        {
          "output_type": "execute_result",
          "data": {
            "text/html": [
              "<div>\n",
              "<style scoped>\n",
              "    .dataframe tbody tr th:only-of-type {\n",
              "        vertical-align: middle;\n",
              "    }\n",
              "\n",
              "    .dataframe tbody tr th {\n",
              "        vertical-align: top;\n",
              "    }\n",
              "\n",
              "    .dataframe thead th {\n",
              "        text-align: right;\n",
              "    }\n",
              "</style>\n",
              "<table border=\"1\" class=\"dataframe\">\n",
              "  <thead>\n",
              "    <tr style=\"text-align: right;\">\n",
              "      <th></th>\n",
              "      <th>time(s)</th>\n",
              "      <th>V_m</th>\n",
              "      <th>Current (A)</th>\n",
              "      <th>Cycle</th>\n",
              "      <th>Cap</th>\n",
              "    </tr>\n",
              "  </thead>\n",
              "  <tbody>\n",
              "    <tr>\n",
              "      <th>count</th>\n",
              "      <td>90982.000000</td>\n",
              "      <td>90982.000000</td>\n",
              "      <td>90982.000000</td>\n",
              "      <td>90982.000000</td>\n",
              "      <td>90982.000000</td>\n",
              "    </tr>\n",
              "    <tr>\n",
              "      <th>mean</th>\n",
              "      <td>45490.500000</td>\n",
              "      <td>3.607666</td>\n",
              "      <td>0.999264</td>\n",
              "      <td>4.978699</td>\n",
              "      <td>2.806214</td>\n",
              "    </tr>\n",
              "    <tr>\n",
              "      <th>std</th>\n",
              "      <td>26264.385433</td>\n",
              "      <td>0.322777</td>\n",
              "      <td>0.001997</td>\n",
              "      <td>2.582135</td>\n",
              "      <td>0.023283</td>\n",
              "    </tr>\n",
              "    <tr>\n",
              "      <th>min</th>\n",
              "      <td>0.000000</td>\n",
              "      <td>2.497000</td>\n",
              "      <td>0.993000</td>\n",
              "      <td>1.000000</td>\n",
              "      <td>2.770180</td>\n",
              "    </tr>\n",
              "    <tr>\n",
              "      <th>25%</th>\n",
              "      <td>22745.250000</td>\n",
              "      <td>3.422000</td>\n",
              "      <td>0.997000</td>\n",
              "      <td>3.000000</td>\n",
              "      <td>2.786860</td>\n",
              "    </tr>\n",
              "    <tr>\n",
              "      <th>50%</th>\n",
              "      <td>45490.500000</td>\n",
              "      <td>3.636000</td>\n",
              "      <td>0.999000</td>\n",
              "      <td>5.000000</td>\n",
              "      <td>2.804878</td>\n",
              "    </tr>\n",
              "    <tr>\n",
              "      <th>75%</th>\n",
              "      <td>68235.750000</td>\n",
              "      <td>3.868000</td>\n",
              "      <td>1.001000</td>\n",
              "      <td>7.000000</td>\n",
              "      <td>2.823520</td>\n",
              "    </tr>\n",
              "    <tr>\n",
              "      <th>max</th>\n",
              "      <td>90981.000000</td>\n",
              "      <td>4.114000</td>\n",
              "      <td>1.003000</td>\n",
              "      <td>9.000000</td>\n",
              "      <td>2.840817</td>\n",
              "    </tr>\n",
              "  </tbody>\n",
              "</table>\n",
              "</div>"
            ],
            "text/plain": [
              "            time(s)           V_m   Current (A)         Cycle           Cap\n",
              "count  90982.000000  90982.000000  90982.000000  90982.000000  90982.000000\n",
              "mean   45490.500000      3.607666      0.999264      4.978699      2.806214\n",
              "std    26264.385433      0.322777      0.001997      2.582135      0.023283\n",
              "min        0.000000      2.497000      0.993000      1.000000      2.770180\n",
              "25%    22745.250000      3.422000      0.997000      3.000000      2.786860\n",
              "50%    45490.500000      3.636000      0.999000      5.000000      2.804878\n",
              "75%    68235.750000      3.868000      1.001000      7.000000      2.823520\n",
              "max    90981.000000      4.114000      1.003000      9.000000      2.840817"
            ]
          },
          "metadata": {},
          "execution_count": 46
        }
      ]
    },
    {
      "cell_type": "markdown",
      "metadata": {
        "id": "qwbRQmf5g16c"
      },
      "source": [
        "# 5. Answer"
      ]
    },
    {
      "cell_type": "markdown",
      "metadata": {
        "id": "qHGuIcAchWX7"
      },
      "source": [
        "Fungsi Eksplisit dari Hambatan"
      ]
    },
    {
      "cell_type": "code",
      "metadata": {
        "id": "8-ZA1YOngYHR"
      },
      "source": [
        "def Hambatan(v, i):\n",
        "  R = v/i\n",
        "  return R"
      ],
      "execution_count": 54,
      "outputs": []
    },
    {
      "cell_type": "markdown",
      "metadata": {
        "id": "EGPoHWychMIG"
      },
      "source": [
        "Fungsi Eksplisit dari Daya"
      ]
    },
    {
      "cell_type": "code",
      "metadata": {
        "id": "TwHrq5DAhkIw"
      },
      "source": [
        "def Daya(v, i):\n",
        "  P = v*i\n",
        "  return P"
      ],
      "execution_count": 59,
      "outputs": []
    },
    {
      "cell_type": "markdown",
      "metadata": {
        "id": "UmuTatjAjrtk"
      },
      "source": [
        "Membuat Kolom Hambatan Baru"
      ]
    },
    {
      "cell_type": "code",
      "metadata": {
        "id": "LXEftnlJi1rn"
      },
      "source": [
        "df['Hambatan']=[Hambatan (df['V_m'][x],df['Current (A)'][x]) for x in range(len(df))]"
      ],
      "execution_count": 56,
      "outputs": []
    },
    {
      "cell_type": "markdown",
      "metadata": {
        "id": "7ixMeXLYjuso"
      },
      "source": [
        "Membuat Kolom Daya Baru"
      ]
    },
    {
      "cell_type": "code",
      "metadata": {
        "id": "xQ9ekBRYjftN"
      },
      "source": [
        "df['Daya']=[Daya (df['V_m'][x],df['Current (A)'][x]) for x in range(len(df))]"
      ],
      "execution_count": 60,
      "outputs": []
    },
    {
      "cell_type": "markdown",
      "metadata": {
        "id": "xRWwsOEpkBs5"
      },
      "source": [
        "Hasil Penambahan Kolom Baru"
      ]
    },
    {
      "cell_type": "code",
      "metadata": {
        "colab": {
          "base_uri": "https://localhost:8080/",
          "height": 418
        },
        "id": "5u5hS5aIj-r_",
        "outputId": "45964a10-8f44-40da-d023-3a9fd7b6a5ee"
      },
      "source": [
        "df"
      ],
      "execution_count": 62,
      "outputs": [
        {
          "output_type": "execute_result",
          "data": {
            "text/html": [
              "<div>\n",
              "<style scoped>\n",
              "    .dataframe tbody tr th:only-of-type {\n",
              "        vertical-align: middle;\n",
              "    }\n",
              "\n",
              "    .dataframe tbody tr th {\n",
              "        vertical-align: top;\n",
              "    }\n",
              "\n",
              "    .dataframe thead th {\n",
              "        text-align: right;\n",
              "    }\n",
              "</style>\n",
              "<table border=\"1\" class=\"dataframe\">\n",
              "  <thead>\n",
              "    <tr style=\"text-align: right;\">\n",
              "      <th></th>\n",
              "      <th>time(s)</th>\n",
              "      <th>V_m</th>\n",
              "      <th>Current (A)</th>\n",
              "      <th>Cycle</th>\n",
              "      <th>Cap</th>\n",
              "      <th>resistance</th>\n",
              "      <th>Hambatan</th>\n",
              "      <th>Daya</th>\n",
              "    </tr>\n",
              "  </thead>\n",
              "  <tbody>\n",
              "    <tr>\n",
              "      <th>0</th>\n",
              "      <td>0</td>\n",
              "      <td>4.098</td>\n",
              "      <td>0.997</td>\n",
              "      <td>1</td>\n",
              "      <td>2.840817</td>\n",
              "      <td>4.110331</td>\n",
              "      <td>4.110331</td>\n",
              "      <td>4.085706</td>\n",
              "    </tr>\n",
              "    <tr>\n",
              "      <th>1</th>\n",
              "      <td>1</td>\n",
              "      <td>4.096</td>\n",
              "      <td>0.998</td>\n",
              "      <td>1</td>\n",
              "      <td>2.840817</td>\n",
              "      <td>4.104208</td>\n",
              "      <td>4.104208</td>\n",
              "      <td>4.087808</td>\n",
              "    </tr>\n",
              "    <tr>\n",
              "      <th>2</th>\n",
              "      <td>2</td>\n",
              "      <td>4.094</td>\n",
              "      <td>0.999</td>\n",
              "      <td>1</td>\n",
              "      <td>2.840817</td>\n",
              "      <td>4.098098</td>\n",
              "      <td>4.098098</td>\n",
              "      <td>4.089906</td>\n",
              "    </tr>\n",
              "    <tr>\n",
              "      <th>3</th>\n",
              "      <td>3</td>\n",
              "      <td>4.093</td>\n",
              "      <td>0.998</td>\n",
              "      <td>1</td>\n",
              "      <td>2.840817</td>\n",
              "      <td>4.101202</td>\n",
              "      <td>4.101202</td>\n",
              "      <td>4.084814</td>\n",
              "    </tr>\n",
              "    <tr>\n",
              "      <th>4</th>\n",
              "      <td>4</td>\n",
              "      <td>4.092</td>\n",
              "      <td>0.999</td>\n",
              "      <td>1</td>\n",
              "      <td>2.840817</td>\n",
              "      <td>4.096096</td>\n",
              "      <td>4.096096</td>\n",
              "      <td>4.087908</td>\n",
              "    </tr>\n",
              "    <tr>\n",
              "      <th>...</th>\n",
              "      <td>...</td>\n",
              "      <td>...</td>\n",
              "      <td>...</td>\n",
              "      <td>...</td>\n",
              "      <td>...</td>\n",
              "      <td>...</td>\n",
              "      <td>...</td>\n",
              "      <td>...</td>\n",
              "    </tr>\n",
              "    <tr>\n",
              "      <th>90977</th>\n",
              "      <td>90977</td>\n",
              "      <td>2.506</td>\n",
              "      <td>1.002</td>\n",
              "      <td>9</td>\n",
              "      <td>2.770180</td>\n",
              "      <td>2.500998</td>\n",
              "      <td>2.500998</td>\n",
              "      <td>2.511012</td>\n",
              "    </tr>\n",
              "    <tr>\n",
              "      <th>90978</th>\n",
              "      <td>90978</td>\n",
              "      <td>2.504</td>\n",
              "      <td>1.002</td>\n",
              "      <td>9</td>\n",
              "      <td>2.770180</td>\n",
              "      <td>2.499002</td>\n",
              "      <td>2.499002</td>\n",
              "      <td>2.509008</td>\n",
              "    </tr>\n",
              "    <tr>\n",
              "      <th>90979</th>\n",
              "      <td>90979</td>\n",
              "      <td>2.502</td>\n",
              "      <td>1.002</td>\n",
              "      <td>9</td>\n",
              "      <td>2.770180</td>\n",
              "      <td>2.497006</td>\n",
              "      <td>2.497006</td>\n",
              "      <td>2.507004</td>\n",
              "    </tr>\n",
              "    <tr>\n",
              "      <th>90980</th>\n",
              "      <td>90980</td>\n",
              "      <td>2.500</td>\n",
              "      <td>1.002</td>\n",
              "      <td>9</td>\n",
              "      <td>2.770180</td>\n",
              "      <td>2.495010</td>\n",
              "      <td>2.495010</td>\n",
              "      <td>2.505000</td>\n",
              "    </tr>\n",
              "    <tr>\n",
              "      <th>90981</th>\n",
              "      <td>90981</td>\n",
              "      <td>2.497</td>\n",
              "      <td>1.002</td>\n",
              "      <td>9</td>\n",
              "      <td>2.770180</td>\n",
              "      <td>2.492016</td>\n",
              "      <td>2.492016</td>\n",
              "      <td>2.501994</td>\n",
              "    </tr>\n",
              "  </tbody>\n",
              "</table>\n",
              "<p>90982 rows × 8 columns</p>\n",
              "</div>"
            ],
            "text/plain": [
              "       time(s)    V_m  Current (A)  ...  resistance  Hambatan      Daya\n",
              "0            0  4.098        0.997  ...    4.110331  4.110331  4.085706\n",
              "1            1  4.096        0.998  ...    4.104208  4.104208  4.087808\n",
              "2            2  4.094        0.999  ...    4.098098  4.098098  4.089906\n",
              "3            3  4.093        0.998  ...    4.101202  4.101202  4.084814\n",
              "4            4  4.092        0.999  ...    4.096096  4.096096  4.087908\n",
              "...        ...    ...          ...  ...         ...       ...       ...\n",
              "90977    90977  2.506        1.002  ...    2.500998  2.500998  2.511012\n",
              "90978    90978  2.504        1.002  ...    2.499002  2.499002  2.509008\n",
              "90979    90979  2.502        1.002  ...    2.497006  2.497006  2.507004\n",
              "90980    90980  2.500        1.002  ...    2.495010  2.495010  2.505000\n",
              "90981    90981  2.497        1.002  ...    2.492016  2.492016  2.501994\n",
              "\n",
              "[90982 rows x 8 columns]"
            ]
          },
          "metadata": {},
          "execution_count": 62
        }
      ]
    },
    {
      "cell_type": "markdown",
      "metadata": {
        "id": "N5o3G-ZRlpMe"
      },
      "source": [
        "Pembuatan Kolom baru, dengan nama kolom R/P berisikan hasil perhitungan daya/hambatan dengan kriteria untuk Kapasitas >=2.5 hitung daya, Kapasitas <2.5 hitung nilai hambatan"
      ]
    },
    {
      "cell_type": "code",
      "metadata": {
        "id": "mArVhpt0kGTO"
      },
      "source": [
        "df['R/P']=[Hambatan (df['V_m'][x],df['Current (A)'][x]) if df['Cap'][x]<2.5 else Daya (df['V_m'][x],df['Current (A)'][x]) for x in range(len(df))]"
      ],
      "execution_count": 64,
      "outputs": []
    },
    {
      "cell_type": "code",
      "metadata": {
        "colab": {
          "base_uri": "https://localhost:8080/",
          "height": 418
        },
        "id": "2_fJ90T4llaV",
        "outputId": "3761abae-3b69-40b0-8909-7154119c4edb"
      },
      "source": [
        "df"
      ],
      "execution_count": 66,
      "outputs": [
        {
          "output_type": "execute_result",
          "data": {
            "text/html": [
              "<div>\n",
              "<style scoped>\n",
              "    .dataframe tbody tr th:only-of-type {\n",
              "        vertical-align: middle;\n",
              "    }\n",
              "\n",
              "    .dataframe tbody tr th {\n",
              "        vertical-align: top;\n",
              "    }\n",
              "\n",
              "    .dataframe thead th {\n",
              "        text-align: right;\n",
              "    }\n",
              "</style>\n",
              "<table border=\"1\" class=\"dataframe\">\n",
              "  <thead>\n",
              "    <tr style=\"text-align: right;\">\n",
              "      <th></th>\n",
              "      <th>time(s)</th>\n",
              "      <th>V_m</th>\n",
              "      <th>Current (A)</th>\n",
              "      <th>Cycle</th>\n",
              "      <th>Cap</th>\n",
              "      <th>resistance</th>\n",
              "      <th>Hambatan</th>\n",
              "      <th>Daya</th>\n",
              "      <th>R/P</th>\n",
              "    </tr>\n",
              "  </thead>\n",
              "  <tbody>\n",
              "    <tr>\n",
              "      <th>0</th>\n",
              "      <td>0</td>\n",
              "      <td>4.098</td>\n",
              "      <td>0.997</td>\n",
              "      <td>1</td>\n",
              "      <td>2.840817</td>\n",
              "      <td>4.110331</td>\n",
              "      <td>4.110331</td>\n",
              "      <td>4.085706</td>\n",
              "      <td>4.085706</td>\n",
              "    </tr>\n",
              "    <tr>\n",
              "      <th>1</th>\n",
              "      <td>1</td>\n",
              "      <td>4.096</td>\n",
              "      <td>0.998</td>\n",
              "      <td>1</td>\n",
              "      <td>2.840817</td>\n",
              "      <td>4.104208</td>\n",
              "      <td>4.104208</td>\n",
              "      <td>4.087808</td>\n",
              "      <td>4.087808</td>\n",
              "    </tr>\n",
              "    <tr>\n",
              "      <th>2</th>\n",
              "      <td>2</td>\n",
              "      <td>4.094</td>\n",
              "      <td>0.999</td>\n",
              "      <td>1</td>\n",
              "      <td>2.840817</td>\n",
              "      <td>4.098098</td>\n",
              "      <td>4.098098</td>\n",
              "      <td>4.089906</td>\n",
              "      <td>4.089906</td>\n",
              "    </tr>\n",
              "    <tr>\n",
              "      <th>3</th>\n",
              "      <td>3</td>\n",
              "      <td>4.093</td>\n",
              "      <td>0.998</td>\n",
              "      <td>1</td>\n",
              "      <td>2.840817</td>\n",
              "      <td>4.101202</td>\n",
              "      <td>4.101202</td>\n",
              "      <td>4.084814</td>\n",
              "      <td>4.084814</td>\n",
              "    </tr>\n",
              "    <tr>\n",
              "      <th>4</th>\n",
              "      <td>4</td>\n",
              "      <td>4.092</td>\n",
              "      <td>0.999</td>\n",
              "      <td>1</td>\n",
              "      <td>2.840817</td>\n",
              "      <td>4.096096</td>\n",
              "      <td>4.096096</td>\n",
              "      <td>4.087908</td>\n",
              "      <td>4.087908</td>\n",
              "    </tr>\n",
              "    <tr>\n",
              "      <th>...</th>\n",
              "      <td>...</td>\n",
              "      <td>...</td>\n",
              "      <td>...</td>\n",
              "      <td>...</td>\n",
              "      <td>...</td>\n",
              "      <td>...</td>\n",
              "      <td>...</td>\n",
              "      <td>...</td>\n",
              "      <td>...</td>\n",
              "    </tr>\n",
              "    <tr>\n",
              "      <th>90977</th>\n",
              "      <td>90977</td>\n",
              "      <td>2.506</td>\n",
              "      <td>1.002</td>\n",
              "      <td>9</td>\n",
              "      <td>2.770180</td>\n",
              "      <td>2.500998</td>\n",
              "      <td>2.500998</td>\n",
              "      <td>2.511012</td>\n",
              "      <td>2.511012</td>\n",
              "    </tr>\n",
              "    <tr>\n",
              "      <th>90978</th>\n",
              "      <td>90978</td>\n",
              "      <td>2.504</td>\n",
              "      <td>1.002</td>\n",
              "      <td>9</td>\n",
              "      <td>2.770180</td>\n",
              "      <td>2.499002</td>\n",
              "      <td>2.499002</td>\n",
              "      <td>2.509008</td>\n",
              "      <td>2.509008</td>\n",
              "    </tr>\n",
              "    <tr>\n",
              "      <th>90979</th>\n",
              "      <td>90979</td>\n",
              "      <td>2.502</td>\n",
              "      <td>1.002</td>\n",
              "      <td>9</td>\n",
              "      <td>2.770180</td>\n",
              "      <td>2.497006</td>\n",
              "      <td>2.497006</td>\n",
              "      <td>2.507004</td>\n",
              "      <td>2.507004</td>\n",
              "    </tr>\n",
              "    <tr>\n",
              "      <th>90980</th>\n",
              "      <td>90980</td>\n",
              "      <td>2.500</td>\n",
              "      <td>1.002</td>\n",
              "      <td>9</td>\n",
              "      <td>2.770180</td>\n",
              "      <td>2.495010</td>\n",
              "      <td>2.495010</td>\n",
              "      <td>2.505000</td>\n",
              "      <td>2.505000</td>\n",
              "    </tr>\n",
              "    <tr>\n",
              "      <th>90981</th>\n",
              "      <td>90981</td>\n",
              "      <td>2.497</td>\n",
              "      <td>1.002</td>\n",
              "      <td>9</td>\n",
              "      <td>2.770180</td>\n",
              "      <td>2.492016</td>\n",
              "      <td>2.492016</td>\n",
              "      <td>2.501994</td>\n",
              "      <td>2.501994</td>\n",
              "    </tr>\n",
              "  </tbody>\n",
              "</table>\n",
              "<p>90982 rows × 9 columns</p>\n",
              "</div>"
            ],
            "text/plain": [
              "       time(s)    V_m  Current (A)  ...  Hambatan      Daya       R/P\n",
              "0            0  4.098        0.997  ...  4.110331  4.085706  4.085706\n",
              "1            1  4.096        0.998  ...  4.104208  4.087808  4.087808\n",
              "2            2  4.094        0.999  ...  4.098098  4.089906  4.089906\n",
              "3            3  4.093        0.998  ...  4.101202  4.084814  4.084814\n",
              "4            4  4.092        0.999  ...  4.096096  4.087908  4.087908\n",
              "...        ...    ...          ...  ...       ...       ...       ...\n",
              "90977    90977  2.506        1.002  ...  2.500998  2.511012  2.511012\n",
              "90978    90978  2.504        1.002  ...  2.499002  2.509008  2.509008\n",
              "90979    90979  2.502        1.002  ...  2.497006  2.507004  2.507004\n",
              "90980    90980  2.500        1.002  ...  2.495010  2.505000  2.505000\n",
              "90981    90981  2.497        1.002  ...  2.492016  2.501994  2.501994\n",
              "\n",
              "[90982 rows x 9 columns]"
            ]
          },
          "metadata": {},
          "execution_count": 66
        }
      ]
    },
    {
      "cell_type": "code",
      "metadata": {
        "id": "-B69eNsllnMf"
      },
      "source": [
        "rata = df.mean()"
      ],
      "execution_count": null,
      "outputs": []
    }
  ]
}
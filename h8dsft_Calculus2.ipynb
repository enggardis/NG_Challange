{
  "nbformat": 4,
  "nbformat_minor": 0,
  "metadata": {
    "colab": {
      "name": "h8dsft_Calculus2.ipynb",
      "provenance": [],
      "collapsed_sections": []
    },
    "kernelspec": {
      "name": "python3",
      "display_name": "Python 3"
    },
    "language_info": {
      "name": "python"
    }
  },
  "cells": [
    {
      "cell_type": "markdown",
      "metadata": {
        "id": "rZqGcB3NBiap"
      },
      "source": [
        "Nama : Enggar Diswandoro\n",
        "\n",
        "Carilah integral dari sebuah fungsi:\n",
        "\n",
        "$\\int ! (3x^{2}-6x+3) , \\mathrm{d}x.$\n",
        "\n",
        "$\\int ! (8x^{3}-x^{2}+5x-1) , \\mathrm{d}x.$\n",
        "\n"
      ]
    },
    {
      "cell_type": "code",
      "metadata": {
        "id": "cbhQxiurA_mG"
      },
      "source": [
        "import sympy as sy"
      ],
      "execution_count": 1,
      "outputs": []
    },
    {
      "cell_type": "code",
      "metadata": {
        "colab": {
          "base_uri": "https://localhost:8080/",
          "height": 38
        },
        "id": "eeM2cKK4ByN9",
        "outputId": "9761ceae-8a41-4a31-fe18-3ed36130efbc"
      },
      "source": [
        "# Soal  1. ∫!(3x2−6x+3),dx.\n",
        "\n",
        "x = sy.Symbol(\"x\", real=True)\n",
        "f = 3*x**2 - 6*x  + 3\n",
        "sy.integrate(f)"
      ],
      "execution_count": 2,
      "outputs": [
        {
          "output_type": "execute_result",
          "data": {
            "text/latex": "$\\displaystyle x^{3} - 3 x^{2} + 3 x$",
            "text/plain": [
              "x**3 - 3*x**2 + 3*x"
            ]
          },
          "metadata": {},
          "execution_count": 2
        }
      ]
    },
    {
      "cell_type": "code",
      "metadata": {
        "colab": {
          "base_uri": "https://localhost:8080/",
          "height": 54
        },
        "id": "Xy5tZ5IiEjhc",
        "outputId": "a873e15e-afe1-4020-bb5e-374d77ec4dd7"
      },
      "source": [
        "# Soal 2. ∫!(8x3−x2+5x−1),dx.\n",
        "\n",
        "f = 8*x**3 - x**2 + 5*x - 1\n",
        "sy.integrate(f)"
      ],
      "execution_count": 6,
      "outputs": [
        {
          "output_type": "execute_result",
          "data": {
            "text/latex": "$\\displaystyle 2 x^{4} - \\frac{x^{3}}{3} + \\frac{5 x^{2}}{2} - x$",
            "text/plain": [
              "2*x**4 - x**3/3 + 5*x**2/2 - x"
            ]
          },
          "metadata": {},
          "execution_count": 6
        }
      ]
    }
  ]
}